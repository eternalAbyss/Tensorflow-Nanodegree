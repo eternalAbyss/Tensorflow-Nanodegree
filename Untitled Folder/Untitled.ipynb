{
 "cells": [
  {
   "cell_type": "code",
   "execution_count": 1,
   "id": "scheduled-hurricane",
   "metadata": {},
   "outputs": [],
   "source": [
    "%config IPCompleter.use_jedi = False "
   ]
  },
  {
   "cell_type": "code",
   "execution_count": 2,
   "id": "stable-pleasure",
   "metadata": {},
   "outputs": [],
   "source": [
    "import numpy as np\n"
   ]
  },
  {
   "cell_type": "code",
   "execution_count": 10,
   "id": "optimum-convergence",
   "metadata": {},
   "outputs": [],
   "source": [
    "def sigma(x):\n",
    "    return (1 / (1 + np.exp(-x)))\n",
    "\n",
    "def predict(w1,w2,b):\n",
    "    return (w1*0.4 + w2*0.6 + b)"
   ]
  },
  {
   "cell_type": "code",
   "execution_count": 12,
   "id": "cleared-honduras",
   "metadata": {},
   "outputs": [
    {
     "data": {
      "text/plain": [
       "0.8807970779778823"
      ]
     },
     "execution_count": 12,
     "metadata": {},
     "output_type": "execute_result"
    }
   ],
   "source": [
    "sigma(predict(3,5,-2.2))"
   ]
  },
  {
   "cell_type": "code",
   "execution_count": 13,
   "id": "cutting-shaft",
   "metadata": {},
   "outputs": [
    {
     "data": {
      "text/plain": [
       "31"
      ]
     },
     "execution_count": 13,
     "metadata": {},
     "output_type": "execute_result"
    }
   ],
   "source": [
    "15+16"
   ]
  },
  {
   "cell_type": "code",
   "execution_count": null,
   "id": "rational-victor",
   "metadata": {},
   "outputs": [],
   "source": []
  }
 ],
 "metadata": {
  "kernelspec": {
   "display_name": "Python [conda env:tf] *",
   "language": "python",
   "name": "conda-env-tf-py"
  },
  "language_info": {
   "codemirror_mode": {
    "name": "ipython",
    "version": 3
   },
   "file_extension": ".py",
   "mimetype": "text/x-python",
   "name": "python",
   "nbconvert_exporter": "python",
   "pygments_lexer": "ipython3",
   "version": "3.7.9"
  }
 },
 "nbformat": 4,
 "nbformat_minor": 5
}
